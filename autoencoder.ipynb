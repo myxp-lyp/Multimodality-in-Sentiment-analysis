{
  "nbformat": 4,
  "nbformat_minor": 0,
  "metadata": {
    "colab": {
      "provenance": []
    },
    "kernelspec": {
      "name": "python3",
      "display_name": "Python 3"
    },
    "language_info": {
      "name": "python"
    }
  },
  "cells": [
    {
      "cell_type": "code",
      "execution_count": 1,
      "metadata": {
        "colab": {
          "base_uri": "https://localhost:8080/"
        },
        "id": "EHxng_WrxBV0",
        "outputId": "e77c8db6-57db-4002-fa31-6b8c90552826"
      },
      "outputs": [
        {
          "output_type": "stream",
          "name": "stdout",
          "text": [
            "Mounted at /content/gdrive\n"
          ]
        }
      ],
      "source": [
        "from google.colab import drive\n",
        "drive.mount('/content/gdrive')"
      ]
    },
    {
      "cell_type": "code",
      "source": [
        "import gc, numpy as np, pickle\n",
        "import tensorflow as tf\n",
        "\n",
        "#train_text [num of video, max num of utterance = max_utt_len, dim of representation]\n",
        "#train_len: num of utterance in every video\n",
        "\n",
        "#(train_text, train_label, test_text, test_label, max_utt_len, train_len, test_len) = pickle.load(open('/content/mytext_revise.pickle', 'rb'))\n",
        "(train_text, train_label,max_utt_len, train_len, test_len) = pickle.load(open('/content/mytext_auto1.pickle', 'rb'))\n",
        "(test_text, test_label,train_score, test_score) = pickle.load(open('/content/mytext_auto2.pickle', 'rb'))\n",
        "\n",
        "#(train_audio, _, test_audio, _, _, _, _) = pickle.load(open('./input/audio.pickle', 'rb'))\n",
        "\n",
        "#original one\n",
        "#(train_video, _, test_video, _, _, _, _) = pickle.load(open('/content/video.pickle', 'rb'))\n",
        "train_video = pickle.load(open('/content/video_train.pickle','rb'))\n",
        "test_video = pickle.load(open('/content/video_test.pickle','rb'))"
      ],
      "metadata": {
        "id": "F2_HZS2MKYxa"
      },
      "execution_count": 2,
      "outputs": []
    },
    {
      "cell_type": "code",
      "source": [
        "import torch\n",
        "train_text = torch.tensor(train_text)\n",
        "train_video = torch.tensor(train_video)\n",
        "test_text = torch.tensor(test_text)\n",
        "test_video = torch.tensor(test_video)\n",
        "train_auto = torch.cat((train_text,train_video),2)\n",
        "test_auto = torch.cat((test_text,test_video),2)"
      ],
      "metadata": {
        "id": "_SEWkC-8Nvwx"
      },
      "execution_count": null,
      "outputs": []
    },
    {
      "cell_type": "code",
      "source": [
        "train_auto = train_auto.to(torch.float32)\n",
        "test_auto = test_auto.to(torch.float32)"
      ],
      "metadata": {
        "id": "z4e8hc4XbNKj"
      },
      "execution_count": 85,
      "outputs": []
    },
    {
      "cell_type": "code",
      "source": [
        "#mask zero value to speed up\n",
        "\n",
        "def create_mask(train_data, test_data, train_length, test_length, test_label):\n",
        "    '''\n",
        "    # Arguments\n",
        "        train, test data (any one modality (text, audio or video)), utterance lengths in train, test videos\n",
        "    # Returns\n",
        "        mask for train and test data\n",
        "    '''\n",
        "\n",
        "    train_mask = np.zeros((train_data.shape[0], train_data.shape[1]), dtype='float')\n",
        "    for i in range(len(train_length)):\n",
        "        train_mask[i, :train_length[i]] = 1.0\n",
        "\n",
        "    test_mask = np.zeros((test_data.shape[0], test_data.shape[1]), dtype='float')\n",
        "    for i in range(len(test_length)):\n",
        "        test_mask[i, :test_length[i]] = 1.0\n",
        "    \n",
        "    #give up neutral cases\n",
        "    for i in range(test_label.shape[0]):\n",
        "        for j in range(test_label.shape[1]):\n",
        "            if test_label[i][j] == -1:\n",
        "                #print('yes')\n",
        "                test_mask[i][j] = 0.0\n",
        "\n",
        "    return train_mask, test_mask"
      ],
      "metadata": {
        "id": "2YgXK_Z4sJ6_"
      },
      "execution_count": 5,
      "outputs": []
    },
    {
      "cell_type": "code",
      "source": [
        "train_mask, test_mask = create_mask(train_auto, test_auto, train_len, test_len, test_label)"
      ],
      "metadata": {
        "id": "NodC4ekjsKd6"
      },
      "execution_count": 6,
      "outputs": []
    },
    {
      "cell_type": "code",
      "source": [
        "train_mask[0]"
      ],
      "metadata": {
        "colab": {
          "base_uri": "https://localhost:8080/"
        },
        "id": "JhkKk1PvsjIe",
        "outputId": "02fcedc9-6a06-4e12-a4df-eeed8e96b7d7"
      },
      "execution_count": 8,
      "outputs": [
        {
          "output_type": "execute_result",
          "data": {
            "text/plain": [
              "array([1., 1., 1., 1., 1., 1., 1., 1., 1., 1., 1., 1., 1., 1., 1., 1., 1.,\n",
              "       1., 1., 1., 1., 1., 1., 1., 1., 1., 0., 0., 0., 0., 0., 0., 0., 0.,\n",
              "       0., 0., 0., 0., 0., 0., 0., 0., 0., 0., 0., 0., 0., 0., 0., 0., 0.,\n",
              "       0., 0., 0., 0., 0., 0., 0., 0., 0., 0., 0., 0.])"
            ]
          },
          "metadata": {},
          "execution_count": 8
        }
      ]
    },
    {
      "cell_type": "code",
      "source": [
        "#hyperparameter\n",
        "import torch.nn as nn\n",
        "import torch.nn.functional as F\n",
        "\n",
        "hid_dim = 50\n",
        "input_dim = 135\n",
        "\n",
        "# Creating a PyTorch class\n",
        "# 135 ==> hid_dim ==> 135\n",
        "\n",
        "class MaskedLinear(nn.Linear):\n",
        "    \"\"\" same as Linear except has a configurable mask on the weights \"\"\"\n",
        "    \n",
        "    def __init__(self, in_features, out_features, bias=True):\n",
        "        super().__init__(in_features, out_features, bias)        \n",
        "        self.register_buffer('mask', torch.ones(out_features, in_features))\n",
        "        \n",
        "    def set_mask(self, mask):\n",
        "        self.mask.data.copy_(torch.from_numpy(mask.astype(np.uint8).T))\n",
        "        \n",
        "    def forward(self, input):\n",
        "        return F.linear(input, self.mask * self.weight, self.bias)\n",
        "\n",
        "\n",
        "class AE(torch.nn.Module):\n",
        "\tdef __init__(self, mask1, mask2):\n",
        "\t\tsuper().__init__()\n",
        "\t\t\n",
        "\t\t# Building an linear encoder with Linear\n",
        "\t\t# layer followed by Relu activation function\n",
        "\t\tif self.training:\n",
        "\t\t\t\tself.mask = mask1\n",
        "\t\telse:\n",
        "\t\t\t\tself.mask = mask2\n",
        "\t\tself.encoder = torch.nn.Sequential(\n",
        "      MaskedLinear(input_dim, 128),\n",
        "\t\t\t#torch.nn.Linear(input_dim, 128),\n",
        "\t\t\ttorch.nn.LeakyReLU(),\n",
        "\t\t\tMaskedLinear(128, 64),\n",
        "\t\t\t\n",
        "      #torch.nn.Linear(128, 64),\n",
        "\t\t\ttorch.nn.LeakyReLU(),\n",
        "      MaskedLinear(64, hid_dim)\n",
        "\t\t\t#torch.nn.Linear(64, hid_dim)\n",
        "   \n",
        "\t\t)\n",
        "  \n",
        "\t\t\n",
        "    \n",
        "\t\t# Building an linear decoder with Linear\n",
        "\t\t# layer followed by Relu activation function\n",
        "\t\t# The Sigmoid activation function\n",
        "\n",
        "\t\tself.decoder = torch.nn.Sequential(\n",
        "\t\t\tMaskedLinear(hid_dim, 64),\n",
        "\t\t\t#torch.nn.Linear(hid_dim, 64),\n",
        "\t\t\ttorch.nn.LeakyReLU(),\n",
        "      MaskedLinear(64, 128),\n",
        "\t\t\t#torch.nn.Linear(64, 128),\n",
        "\t\t\ttorch.nn.LeakyReLU(),\n",
        "      MaskedLinear(128, input_dim),\n",
        "\t\t\t#torch.nn.Linear(128, input_dim)\n",
        "\t\t)\n",
        "\n",
        "\tdef forward(self, x):\n",
        "\t\tencoded = self.encoder(x)\n",
        "\t\tdecoded = self.decoder(encoded)\n",
        "\t\treturn decoded\n",
        "\n"
      ],
      "metadata": {
        "id": "aI8qTILTO9YN"
      },
      "execution_count": 38,
      "outputs": []
    },
    {
      "cell_type": "code",
      "source": [
        "# Model Initialization\n",
        "model = AE(train_mask, test_mask)\n",
        "\n",
        "# Validation using MSE Loss function\n",
        "loss_function = torch.nn.MSELoss()\n",
        "\n",
        "# Using an Adam Optimizer with lr = 0.1\n",
        "optimizer = torch.optim.Adam(model.parameters(),\n",
        "\t\t\t\t\t\t\tlr = 1e-1,\n",
        "\t\t\t\t\t\t\tweight_decay = 1e-8)\n"
      ],
      "metadata": {
        "id": "NQ5kZHT4ZTH5"
      },
      "execution_count": 86,
      "outputs": []
    },
    {
      "cell_type": "code",
      "source": [
        "#hiddim = 80\n",
        "import matplotlib.pyplot as plt\n",
        "epochs = 200\n",
        "outputs = []\n",
        "losses = []\n",
        "for epoch in range(epochs):\n",
        "\t\n",
        "\t\n",
        "\t# Output of Autoencoder\n",
        "\treconstructed = model(train_auto)\n",
        "\t\n",
        "\t# Calculating the loss function\n",
        "\tloss = loss_function(reconstructed, train_auto)\n",
        "\t\n",
        "\t# The gradients are set to zero,\n",
        "\t# the gradient is computed and stored.\n",
        "\t# .step() performs parameter update\n",
        "\toptimizer.zero_grad()\n",
        "\tloss.backward()\n",
        "\toptimizer.step()\n",
        "\t\n",
        "\t# Storing the losses in a list for plotting\n",
        "\tlosses.append(loss.detach().numpy())\n",
        "\tif epoch > epochs - 10:\n",
        "\t\tprint('epoch:%d, loss:%.4f'%(epoch, loss))\n",
        "\n",
        "# Defining the Plot Style\n",
        "plt.style.use('fivethirtyeight')\n",
        "plt.xlabel('Iterations')\n",
        "plt.ylabel('Loss')\n",
        "\n",
        "# Plotting the last 100 values\n",
        "plt.plot(losses)\n"
      ],
      "metadata": {
        "colab": {
          "base_uri": "https://localhost:8080/",
          "height": 497
        },
        "id": "EV_lVWAJQJtc",
        "outputId": "b93648db-bdb2-424b-e169-4935a2631b51"
      },
      "execution_count": 25,
      "outputs": [
        {
          "output_type": "stream",
          "name": "stdout",
          "text": [
            "epoch:191, loss:4.1160\n",
            "epoch:192, loss:4.0901\n",
            "epoch:193, loss:4.0646\n",
            "epoch:194, loss:4.0393\n",
            "epoch:195, loss:4.0143\n",
            "epoch:196, loss:3.9896\n",
            "epoch:197, loss:3.9653\n",
            "epoch:198, loss:3.9412\n",
            "epoch:199, loss:3.9174\n"
          ]
        },
        {
          "output_type": "execute_result",
          "data": {
            "text/plain": [
              "[<matplotlib.lines.Line2D at 0x7fd7e5362d90>]"
            ]
          },
          "metadata": {},
          "execution_count": 25
        },
        {
          "output_type": "display_data",
          "data": {
            "text/plain": [
              "<Figure size 432x288 with 1 Axes>"
            ],
            "image/png": "[encoded data removed]"
          },
          "metadata": {}
        }
      ]
    },
    {
      "cell_type": "code",
      "source": [
        "import matplotlib.pyplot as plt\n",
        "#hid_dim = 20\n",
        "epochs = 200\n",
        "outputs = []\n",
        "losses = []\n",
        "for epoch in range(epochs):\n",
        "\t\n",
        "\t\n",
        "\t# Output of Autoencoder\n",
        "\treconstructed = model(train_auto)\n",
        "\t\n",
        "\t# Calculating the loss function\n",
        "\tloss = loss_function(reconstructed, train_auto)\n",
        "\t\n",
        "\t# The gradients are set to zero,\n",
        "\t# the gradient is computed and stored.\n",
        "\t# .step() performs parameter update\n",
        "\toptimizer.zero_grad()\n",
        "\tloss.backward()\n",
        "\toptimizer.step()\n",
        "\t\n",
        "\t# Storing the losses in a list for plotting\n",
        "\tlosses.append(loss.detach().numpy())\n",
        "\tif epoch > epochs - 10:\n",
        "\t\tprint('epoch:%d, loss:%.4f'%(epoch, loss))\n",
        "\n",
        "\n",
        "# Defining the Plot Style\n",
        "plt.style.use('fivethirtyeight')\n",
        "plt.xlabel('Iterations')\n",
        "plt.ylabel('Loss')\n",
        "\n",
        "# Plotting the last 100 values\n",
        "plt.plot(losses)\n"
      ],
      "metadata": {
        "colab": {
          "base_uri": "https://localhost:8080/",
          "height": 483
        },
        "id": "ReNpNe-wezQc",
        "outputId": "25ba6550-48ba-4066-82f7-4fec24e4d64b"
      },
      "execution_count": 33,
      "outputs": [
        {
          "output_type": "stream",
          "name": "stdout",
          "text": [
            "epoch:191, loss:0.4437\n",
            "epoch:192, loss:0.4435\n",
            "epoch:193, loss:0.4433\n",
            "epoch:194, loss:0.4432\n",
            "epoch:195, loss:0.4430\n",
            "epoch:196, loss:0.4428\n",
            "epoch:197, loss:0.4426\n",
            "epoch:198, loss:0.4424\n",
            "epoch:199, loss:0.4422\n"
          ]
        },
        {
          "output_type": "execute_result",
          "data": {
            "text/plain": [
              "[<matplotlib.lines.Line2D at 0x7fd7e29defa0>]"
            ]
          },
          "metadata": {},
          "execution_count": 33
        },
        {
          "output_type": "display_data",
          "data": {
            "text/plain": [
              "<Figure size 432x288 with 1 Axes>"
            ],
            "image/png": "[encoded data removed]"
          },
          "metadata": {}
        }
      ]
    },
    {
      "cell_type": "code",
      "source": [
        "#hiddim = 50\n",
        "import matplotlib.pyplot as plt\n",
        "epochs = 200\n",
        "outputs = []\n",
        "losses = []\n",
        "for epoch in range(epochs):\n",
        "\t\n",
        "\t\n",
        "\t# Output of Autoencoder\n",
        "\treconstructed = model(train_auto)\n",
        "\t\n",
        "\t# Calculating the loss function\n",
        "\tloss = loss_function(reconstructed, train_auto)\n",
        "\t\n",
        "\t# The gradients are set to zero,\n",
        "\t# the gradient is computed and stored.\n",
        "\t# .step() performs parameter update\n",
        "\toptimizer.zero_grad()\n",
        "\tloss.backward()\n",
        "\toptimizer.step()\n",
        "\t\n",
        "\t# Storing the losses in a list for plotting\n",
        "\tlosses.append(loss.detach().numpy())\n",
        "\tif epoch > epochs - 10:\n",
        "\t\tprint('epoch:%d, loss:%.4f'%(epoch, loss))\n",
        "\n",
        "\n",
        "# Defining the Plot Style\n",
        "plt.style.use('fivethirtyeight')\n",
        "plt.xlabel('Iterations')\n",
        "plt.ylabel('Loss')\n",
        "\n",
        "# Plotting the last 100 values\n",
        "plt.plot(losses)\n"
      ],
      "metadata": {
        "colab": {
          "base_uri": "https://localhost:8080/",
          "height": 483
        },
        "id": "TzfBr1e7fz9S",
        "outputId": "e2053e8d-d689-4420-f602-36ee57d572ae"
      },
      "execution_count": 87,
      "outputs": [
        {
          "output_type": "stream",
          "name": "stdout",
          "text": [
            "epoch:191, loss:0.4519\n",
            "epoch:192, loss:0.4513\n",
            "epoch:193, loss:0.4507\n",
            "epoch:194, loss:0.4501\n",
            "epoch:195, loss:0.4495\n",
            "epoch:196, loss:0.4489\n",
            "epoch:197, loss:0.4483\n",
            "epoch:198, loss:0.4477\n",
            "epoch:199, loss:0.4472\n"
          ]
        },
        {
          "output_type": "execute_result",
          "data": {
            "text/plain": [
              "[<matplotlib.lines.Line2D at 0x7fd7e2742e50>]"
            ]
          },
          "metadata": {},
          "execution_count": 87
        },
        {
          "output_type": "display_data",
          "data": {
            "text/plain": [
              "<Figure size 432x288 with 1 Axes>"
            ],
            "image/png": "[encoded data removed]"
          },
          "metadata": {}
        }
      ]
    },
    {
      "cell_type": "code",
      "source": [
        "model.train()\n",
        "print(model.training)\n",
        "train_features = model.encoder(train_auto)\n",
        "model.eval()\n",
        "print(model.training)\n",
        "test_features = model.encoder(test_auto)\n",
        "torch.save(model.state_dict(), './aemodel_50.pt')"
      ],
      "metadata": {
        "colab": {
          "base_uri": "https://localhost:8080/"
        },
        "id": "gvmsjLD3cVKa",
        "outputId": "6fd26a5a-4063-4fb8-e6ce-a7cb66bd42aa"
      },
      "execution_count": 88,
      "outputs": [
        {
          "output_type": "stream",
          "name": "stdout",
          "text": [
            "True\n",
            "False\n"
          ]
        }
      ]
    },
    {
      "cell_type": "code",
      "source": [
        "train_features[0] == train_features[1]"
      ],
      "metadata": {
        "colab": {
          "base_uri": "https://localhost:8080/"
        },
        "id": "3B0-JVd9c76n",
        "outputId": "aae0354b-0139-4198-e668-297d9f01b84b"
      },
      "execution_count": 83,
      "outputs": [
        {
          "output_type": "execute_result",
          "data": {
            "text/plain": [
              "tensor([[False, False, False,  ..., False, False, False],\n",
              "        [False, False, False,  ..., False, False, False],\n",
              "        [False, False, False,  ..., False, False, False],\n",
              "        ...,\n",
              "        [ True,  True,  True,  ...,  True,  True,  True],\n",
              "        [ True,  True,  True,  ...,  True,  True,  True],\n",
              "        [ True,  True,  True,  ...,  True,  True,  True]])"
            ]
          },
          "metadata": {},
          "execution_count": 83
        }
      ]
    },
    {
      "cell_type": "code",
      "source": [
        "model.train()\n",
        "train_de = model.decoder(train_features)\n",
        "model.training"
      ],
      "metadata": {
        "colab": {
          "base_uri": "https://localhost:8080/"
        },
        "id": "KS-vWy6FdncO",
        "outputId": "39cc712d-29a5-4b5f-c7b6-8619a50b65f9"
      },
      "execution_count": 89,
      "outputs": [
        {
          "output_type": "execute_result",
          "data": {
            "text/plain": [
              "True"
            ]
          },
          "metadata": {},
          "execution_count": 89
        }
      ]
    },
    {
      "cell_type": "code",
      "source": [
        "train_de[0]"
      ],
      "metadata": {
        "colab": {
          "base_uri": "https://localhost:8080/"
        },
        "id": "TzOogwoO6d3n",
        "outputId": "1a3d120b-94cc-480c-a527-d3c75c316970"
      },
      "execution_count": 90,
      "outputs": [
        {
          "output_type": "execute_result",
          "data": {
            "text/plain": [
              "tensor([[-0.1409,  0.4170,  0.7610,  ..., -0.6004, -1.5470,  0.2494],\n",
              "        [-0.0993,  0.3440,  0.6549,  ..., -0.5001, -1.4406,  0.2813],\n",
              "        [-0.0942,  0.3655,  0.6739,  ..., -0.5191, -1.4601,  0.3086],\n",
              "        ...,\n",
              "        [ 0.2943, -0.0820, -0.1167,  ...,  0.1489, -0.6465,  0.1339],\n",
              "        [ 0.2943, -0.0820, -0.1167,  ...,  0.1489, -0.6465,  0.1339],\n",
              "        [ 0.2943, -0.0820, -0.1167,  ...,  0.1489, -0.6465,  0.1339]],\n",
              "       grad_fn=<SelectBackward0>)"
            ]
          },
          "metadata": {},
          "execution_count": 90
        }
      ]
    },
    {
      "cell_type": "code",
      "source": [
        "train_auto[0]"
      ],
      "metadata": {
        "colab": {
          "base_uri": "https://localhost:8080/"
        },
        "id": "EER_lQIOddJu",
        "outputId": "54692709-7d41-4d5a-e2ea-29fd0d57918b"
      },
      "execution_count": 46,
      "outputs": [
        {
          "output_type": "execute_result",
          "data": {
            "text/plain": [
              "tensor([[-0.1787,  0.0194,  0.2821,  ..., -4.1088,  0.5166,  2.6611],\n",
              "        [ 0.0953,  0.1078,  0.2935,  ..., -3.8363,  4.8980,  3.4719],\n",
              "        [-0.0816,  0.1248,  0.4574,  ..., -4.8289,  1.7792,  3.6170],\n",
              "        ...,\n",
              "        [ 0.0000,  0.0000,  0.0000,  ...,  0.0000,  0.0000,  0.0000],\n",
              "        [ 0.0000,  0.0000,  0.0000,  ...,  0.0000,  0.0000,  0.0000],\n",
              "        [ 0.0000,  0.0000,  0.0000,  ...,  0.0000,  0.0000,  0.0000]])"
            ]
          },
          "metadata": {},
          "execution_count": 46
        }
      ]
    },
    {
      "cell_type": "code",
      "source": [
        "model.eval()\n",
        "test_de = model.decoder(test_features)"
      ],
      "metadata": {
        "id": "6pBLLBNu0a06"
      },
      "execution_count": 91,
      "outputs": []
    },
    {
      "cell_type": "code",
      "source": [
        "test_de[0]"
      ],
      "metadata": {
        "colab": {
          "base_uri": "https://localhost:8080/"
        },
        "id": "CXI9j4jM0fmV",
        "outputId": "9e254ecd-cf69-4fac-8b78-76b94336df0c"
      },
      "execution_count": 92,
      "outputs": [
        {
          "output_type": "execute_result",
          "data": {
            "text/plain": [
              "tensor([[-0.1477,  0.2910,  0.6319,  ..., -0.4755, -1.4147,  0.1176],\n",
              "        [-0.1306,  0.3863,  0.7193,  ..., -0.5630, -1.5041,  0.2218],\n",
              "        [-0.1805,  0.4118,  0.7819,  ..., -0.6196, -1.5660,  0.1401],\n",
              "        ...,\n",
              "        [ 0.2943, -0.0820, -0.1167,  ...,  0.1489, -0.6465,  0.1339],\n",
              "        [ 0.2943, -0.0820, -0.1167,  ...,  0.1489, -0.6465,  0.1339],\n",
              "        [ 0.2943, -0.0820, -0.1167,  ...,  0.1489, -0.6465,  0.1339]],\n",
              "       grad_fn=<SelectBackward0>)"
            ]
          },
          "metadata": {},
          "execution_count": 92
        }
      ]
    },
    {
      "cell_type": "code",
      "source": [
        "test_auto[0]"
      ],
      "metadata": {
        "colab": {
          "base_uri": "https://localhost:8080/"
        },
        "id": "YAxW6vtf7Ji6",
        "outputId": "edd447be-d7f7-4952-c5fd-c85a70c112b1"
      },
      "execution_count": 93,
      "outputs": [
        {
          "output_type": "execute_result",
          "data": {
            "text/plain": [
              "tensor([[ -0.1952,   0.2739,   0.4649,  ..., -11.9612, -10.5791,   3.6253],\n",
              "        [  0.0756,   0.0618,   0.6579,  ...,  -5.9105, -11.3419,   5.1939],\n",
              "        [ -0.1144,   0.2752,   0.4820,  ...,  -8.6218, -11.7895,   4.2655],\n",
              "        ...,\n",
              "        [  0.0000,   0.0000,   0.0000,  ...,   0.0000,   0.0000,   0.0000],\n",
              "        [  0.0000,   0.0000,   0.0000,  ...,   0.0000,   0.0000,   0.0000],\n",
              "        [  0.0000,   0.0000,   0.0000,  ...,   0.0000,   0.0000,   0.0000]])"
            ]
          },
          "metadata": {},
          "execution_count": 93
        }
      ]
    },
    {
      "cell_type": "code",
      "source": [
        "class Conv(nn.Module):\n",
        "    def __init__(self, num_classes=1):\n",
        "        super(Conv, self).__init__()\n",
        "        self.layer1 = nn.Sequential(\n",
        "            nn.Conv1d(1, 4, kernel_size=3, stride=1, padding=0),\n",
        "            #nn.BatchNorm2d(16),\n",
        "            nn.ReLU())\n",
        "            #nn.MaxPool2d(kernel_size=2, stride=2))#2*2 pooling\n",
        "        self.layer2 = nn.Sequential(\n",
        "            nn.Conv1d(4, 8, kernel_size=3, stride=1, padding=0),\n",
        "            #nn.BatchNorm2d(32),\n",
        "            nn.ReLU())\n",
        "            #nn.MaxPool2d(kernel_size=2, stride=2))#2*2 pooling\n",
        "        self.fc = nn.Linear(47*8, num_classes)\n",
        "\n",
        "    def forward(self, x):\n",
        "        out = self.layer1(x)\n",
        "        #print(out.shape)\n",
        "        out = self.layer2(out)\n",
        "        out = out.reshape(out.size(0), -1)\n",
        "        out = self.fc(out)\n",
        "        return out\n",
        "\n",
        "model_cov = Conv()\n",
        "\n",
        "# Loss and optimizer\n",
        "criterion = torch.nn.MSELoss(reduction='none')\n",
        "optimizer = torch.optim.Adam(model_cov.parameters(), lr=0.001)"
      ],
      "metadata": {
        "id": "f6SBxjgHd1tk"
      },
      "execution_count": 176,
      "outputs": []
    },
    {
      "cell_type": "code",
      "source": [
        "train_score = torch.tensor(train_score)\n",
        "test_score = torch.tensor(test_score)\n",
        "\n",
        "train_score = train_score.to(torch.float32)\n",
        "test_score = test_score.to(torch.float32)\n",
        "\n",
        "train_features = torch.cat((train_score,train_features), 2)\n",
        "test_features = torch.cat((test_score,test_features), 2)"
      ],
      "metadata": {
        "colab": {
          "base_uri": "https://localhost:8080/"
        },
        "id": "xgJJytGxgi7f",
        "outputId": "acfa8fa3-ca4f-4518-c1fd-7cc9835dcc27"
      },
      "execution_count": 94,
      "outputs": [
        {
          "output_type": "stream",
          "name": "stderr",
          "text": [
            "<ipython-input-94-667d4b9d748e>:1: UserWarning: To copy construct from a tensor, it is recommended to use sourceTensor.clone().detach() or sourceTensor.clone().detach().requires_grad_(True), rather than torch.tensor(sourceTensor).\n",
            "  train_score = torch.tensor(train_score)\n",
            "<ipython-input-94-667d4b9d748e>:2: UserWarning: To copy construct from a tensor, it is recommended to use sourceTensor.clone().detach() or sourceTensor.clone().detach().requires_grad_(True), rather than torch.tensor(sourceTensor).\n",
            "  test_score = torch.tensor(test_score)\n"
          ]
        }
      ]
    },
    {
      "cell_type": "code",
      "source": [
        "test_features.shape"
      ],
      "metadata": {
        "colab": {
          "base_uri": "https://localhost:8080/"
        },
        "id": "vgaSr7Ce7QQE",
        "outputId": "ca520348-0d31-4320-c3e2-43d2a5ee99ca"
      },
      "execution_count": 96,
      "outputs": [
        {
          "output_type": "execute_result",
          "data": {
            "text/plain": [
              "torch.Size([31, 63, 51])"
            ]
          },
          "metadata": {},
          "execution_count": 96
        }
      ]
    },
    {
      "cell_type": "code",
      "source": [
        "train_features = train_features.reshape(61*63,1, 51)\n",
        "test_features = test_features.reshape(31*63,1, 51)"
      ],
      "metadata": {
        "id": "fozqXmsm5AbF"
      },
      "execution_count": 97,
      "outputs": []
    },
    {
      "cell_type": "code",
      "source": [
        "train_label = torch.tensor(train_label).reshape(61*63,1)\n",
        "test_label = torch.tensor(test_label).reshape(31*63,1)"
      ],
      "metadata": {
        "colab": {
          "base_uri": "https://localhost:8080/"
        },
        "id": "VUz40HQU5jy3",
        "outputId": "3219577e-0f32-471d-bf87-4d7139dc2db5"
      },
      "execution_count": 98,
      "outputs": [
        {
          "output_type": "stream",
          "name": "stderr",
          "text": [
            "<ipython-input-98-a1845001d3c6>:1: UserWarning: To copy construct from a tensor, it is recommended to use sourceTensor.clone().detach() or sourceTensor.clone().detach().requires_grad_(True), rather than torch.tensor(sourceTensor).\n",
            "  train_label = torch.tensor(train_label).reshape(61*63,1)\n"
          ]
        }
      ]
    },
    {
      "cell_type": "code",
      "source": [
        "train_label = train_label.to(torch.float32)\n",
        "test_label = test_label.to(torch.float32)"
      ],
      "metadata": {
        "id": "XJXEmeC85rvk"
      },
      "execution_count": 148,
      "outputs": []
    },
    {
      "cell_type": "code",
      "source": [
        "loss.dtype"
      ],
      "metadata": {
        "colab": {
          "base_uri": "https://localhost:8080/"
        },
        "id": "uYf5XVxR6MwU",
        "outputId": "c57cb58d-3181-487e-b1b5-3ee1248f7caa"
      },
      "execution_count": 155,
      "outputs": [
        {
          "output_type": "execute_result",
          "data": {
            "text/plain": [
              "torch.float64"
            ]
          },
          "metadata": {},
          "execution_count": 155
        }
      ]
    },
    {
      "cell_type": "code",
      "source": [
        "\n",
        "epochs = 500\n",
        "outputs = []\n",
        "losses = []\n",
        "model_cov.train()\n",
        "for epoch in range(epochs):\n",
        "\t\n",
        "\toptimizer.zero_grad()\n",
        "\t# Output of Autoencoder\n",
        "\toutputs = model_cov(train_features.detach())\n",
        "\t\n",
        "\t# Calculating the loss function\n",
        "  #masked loss\n",
        "\n",
        "\tloss = criterion(outputs, train_label)\n",
        " \n",
        "\tmse = (loss * torch.tensor(train_mask.reshape(61*63, 1))).sum() \n",
        "\tmse_loss_val = mse / mse.numel()\n",
        "\t#mse_loss_val = mse_loss_val.to(torch.float32)\n",
        "\n",
        "\t# now doing backpropagation\n",
        "\tmse_loss_val.backward()\n",
        "\t#loss = loss_function(reconstructed, train_auto)\n",
        "\t\n",
        "\t# The gradients are set to zero,\n",
        "\t# the gradient is computed and stored.\n",
        "\t# .step() performs parameter update\n",
        "\t\n",
        "\t\n",
        "\toptimizer.step()\n",
        "\t\n",
        "\t# Storing the losses in a list for plotting\n",
        "\tlosses.append(mse_loss_val.detach().numpy())\n",
        "\tif epoch > epochs - 10:\n",
        "\t\tprint('epoch:%d, loss:%.4f'%(epoch, mse_loss_val))\n",
        "\n",
        "\n",
        "# Defining the Plot Style\n",
        "plt.style.use('fivethirtyeight')\n",
        "plt.xlabel('Iterations')\n",
        "plt.ylabel('Loss')\n",
        "\n",
        "# Plotting the last 100 values\n",
        "plt.plot(losses)\n"
      ],
      "metadata": {
        "colab": {
          "base_uri": "https://localhost:8080/",
          "height": 483
        },
        "id": "Wq0pwdL1iLDH",
        "outputId": "ed30d400-4d63-4a27-beb2-14f7e9f6637a"
      },
      "execution_count": 177,
      "outputs": [
        {
          "output_type": "stream",
          "name": "stdout",
          "text": [
            "epoch:491, loss:3514.5339\n",
            "epoch:492, loss:3514.4900\n",
            "epoch:493, loss:3514.4508\n",
            "epoch:494, loss:3514.4078\n",
            "epoch:495, loss:3514.3654\n",
            "epoch:496, loss:3514.3087\n",
            "epoch:497, loss:3514.2890\n",
            "epoch:498, loss:3514.2414\n",
            "epoch:499, loss:3514.2022\n"
          ]
        },
        {
          "output_type": "execute_result",
          "data": {
            "text/plain": [
              "[<matplotlib.lines.Line2D at 0x7fd7e1f4c430>]"
            ]
          },
          "metadata": {},
          "execution_count": 177
        },
        {
          "output_type": "display_data",
          "data": {
            "text/plain": [
              "<Figure size 432x288 with 1 Axes>"
            ],
            "image/png": "[encoded data removed]"
          },
          "metadata": {}
        }
      ]
    },
    {
      "cell_type": "code",
      "source": [
        "model_cov.eval()\n",
        "\n",
        "res = model_cov(test_features)"
      ],
      "metadata": {
        "id": "dapvjgHKGI41"
      },
      "execution_count": 188,
      "outputs": []
    },
    {
      "cell_type": "code",
      "source": [
        "sign = test_mask.reshape(31*63, 1)\n",
        "x = []\n",
        "y = []\n",
        "for i in range(31*63):\n",
        "  if sign[i] == 1:\n",
        "    x.append(res[i].detach().numpy())\n",
        "    y.append(test_label[i].detach().numpy())"
      ],
      "metadata": {
        "id": "bo5I81bsFQww"
      },
      "execution_count": 197,
      "outputs": []
    },
    {
      "cell_type": "code",
      "source": [
        "x = np.array(x).squeeze(1)\n",
        "y = np.array(y).squeeze(1)"
      ],
      "metadata": {
        "id": "m50SBtm5IdjJ"
      },
      "execution_count": 206,
      "outputs": []
    },
    {
      "cell_type": "code",
      "source": [
        "xx = torch.tensor(x)\n",
        "yy = torch.tensor(y)"
      ],
      "metadata": {
        "id": "am4cSdIxI0PB"
      },
      "execution_count": 209,
      "outputs": []
    },
    {
      "cell_type": "code",
      "source": [
        "test_loss = nn.MSELoss()\n",
        "test_loss(xx,yy)"
      ],
      "metadata": {
        "colab": {
          "base_uri": "https://localhost:8080/"
        },
        "id": "oLYD5M2yGty_",
        "outputId": "e596378b-2738-4944-e51d-d7ff0c76f2e5"
      },
      "execution_count": 212,
      "outputs": [
        {
          "output_type": "execute_result",
          "data": {
            "text/plain": [
              "tensor(2.3998)"
            ]
          },
          "metadata": {},
          "execution_count": 212
        }
      ]
    },
    {
      "cell_type": "code",
      "source": [
        "plt.style.use('fivethirtyeight')\n",
        "plt.xlabel('Test cases')\n",
        "plt.ylabel('Score')\n",
        "\n",
        "xaixss = [i for i in range(xx.shape[0])]\n",
        "plt.scatter(xaixss[:100], xx[:100], color = 'red', label = 'prediction')\n",
        "plt.scatter(xaixss[:100], yy[:100], color = 'blue', label = 'ground_truth')\n",
        "\n",
        "plt.legend()\n",
        "plt.savefig('score.jpg', bbox_inches = 'tight')"
      ],
      "metadata": {
        "colab": {
          "base_uri": "https://localhost:8080/",
          "height": 304
        },
        "id": "_huoSJ5oI-Ux",
        "outputId": "eeb29a94-5032-433a-c34a-8dfc825c3410"
      },
      "execution_count": 226,
      "outputs": [
        {
          "output_type": "display_data",
          "data": {
            "text/plain": [
              "<Figure size 432x288 with 1 Axes>"
            ],
            "image/png": "[encoded data removed]"
          },
          "metadata": {}
        }
      ]
    },
    {
      "cell_type": "code",
      "source": [
        "count = 0\n",
        "for i in range(xx.shape[0]):\n",
        "  if abs(xx[i]-yy[i]) < 1:\n",
        "    count += 1\n",
        "\n",
        "print(count/xx.shape[0])"
      ],
      "metadata": {
        "colab": {
          "base_uri": "https://localhost:8080/"
        },
        "id": "cXCl-6rPKEq1",
        "outputId": "23c2d913-e90a-4047-9122-cbdd952e3ecd"
      },
      "execution_count": 221,
      "outputs": [
        {
          "output_type": "stream",
          "name": "stdout",
          "text": [
            "0.3696883852691218\n"
          ]
        }
      ]
    },
    {
      "cell_type": "code",
      "source": [
        "count = 0\n",
        "for i in range(xx.shape[0]):\n",
        "  if xx[i] * yy[i] > 0 or (xx[i] <0.1 and yy[i] == 0):\n",
        "    count += 1\n",
        "\n",
        "print(count/xx.shape[0])"
      ],
      "metadata": {
        "colab": {
          "base_uri": "https://localhost:8080/"
        },
        "id": "xqGpn0b6Kk70",
        "outputId": "237978d8-970a-4c58-a391-c4813bdcbe98"
      },
      "execution_count": 225,
      "outputs": [
        {
          "output_type": "stream",
          "name": "stdout",
          "text": [
            "0.5382436260623229\n"
          ]
        }
      ]
    },
    {
      "cell_type": "code",
      "source": [
        "torch.save(model_cov.state_dict(), './model_conv.pt')"
      ],
      "metadata": {
        "id": "iS_ndYvnMYg8"
      },
      "execution_count": 227,
      "outputs": []
    }
  ]
}