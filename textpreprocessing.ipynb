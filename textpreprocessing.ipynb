{
 "cells": [
  {
   "cell_type": "code",
   "execution_count": 1,
   "metadata": {},
   "outputs": [],
   "source": [
    "import h5py\n"
   ]
  },
  {
   "attachments": {},
   "cell_type": "markdown",
   "metadata": {},
   "source": [
    "Get the label for text"
   ]
  },
  {
   "cell_type": "code",
   "execution_count": null,
   "metadata": {},
   "outputs": [],
   "source": [
    "lan = h5py.File('/Users/yupeili/Desktop/ISO/data/CMU_MOSI_Opinion_Labels.csd')"
   ]
  },
  {
   "cell_type": "code",
   "execution_count": null,
   "metadata": {},
   "outputs": [],
   "source": [
    "lan['Opinion Segment Labels']['data'].keys()"
   ]
  },
  {
   "cell_type": "code",
   "execution_count": null,
   "metadata": {},
   "outputs": [],
   "source": [
    "lan['Opinion Segment Labels']['data']['03bSnISJMiM'].keys()"
   ]
  },
  {
   "cell_type": "code",
   "execution_count": null,
   "metadata": {},
   "outputs": [],
   "source": [
    "lan['Opinion Segment Labels']['data']['03bSnISJMiM']['features']"
   ]
  },
  {
   "cell_type": "code",
   "execution_count": null,
   "metadata": {},
   "outputs": [],
   "source": [
    "for j in lan['Opinion Segment Labels']['data'].keys():\n",
    "    with open('label/'+j+'.txt', 'w') as f:\n",
    "        for i in lan['Opinion Segment Labels']['data'][j]['features']:\n",
    "            f.write(str(i[0]))\n",
    "            f.write('\\n')"
   ]
  },
  {
   "cell_type": "code",
   "execution_count": null,
   "metadata": {},
   "outputs": [],
   "source": [
    "import nltk\n",
    "nltk.download(\"stopwords\")"
   ]
  },
  {
   "attachments": {},
   "cell_type": "markdown",
   "metadata": {},
   "source": [
    "Preprocess the text: use glove"
   ]
  },
  {
   "cell_type": "code",
   "execution_count": null,
   "metadata": {},
   "outputs": [],
   "source": [
    "from nltk.corpus import stopwords\n",
    "words = stopwords.words('english')\n",
    "print(words[:10])"
   ]
  },
  {
   "cell_type": "code",
   "execution_count": null,
   "metadata": {},
   "outputs": [],
   "source": [
    "'A' in words"
   ]
  },
  {
   "cell_type": "code",
   "execution_count": null,
   "metadata": {},
   "outputs": [],
   "source": [
    "for w in ['!',',','.','?','-s','-ly','</s>','s']:\n",
    "    words.append(w)"
   ]
  },
  {
   "cell_type": "code",
   "execution_count": null,
   "metadata": {},
   "outputs": [],
   "source": [
    "import numpy as np\n",
    "from scipy import spatial\n",
    "import matplotlib.pyplot as plt\n",
    "from sklearn.manifold import TSNE\n",
    "import os\n",
    "\n",
    "embedding_dict = {}\n",
    "\n",
    "with open('/Users/yupeili/Desktop/ISO/data/glove.6B/glove.6B.100d.txt', 'r') as f:\n",
    "    for line in f:\n",
    "        values = line.split()\n",
    "        word = values[0]\n",
    "        vector = np.asarray(values[1:], 'float32')\n",
    "        embedding_dict[word] = vector\n",
    "        \n",
    "np.save('/Users/yupeili/Desktop/ISO/data/glove.6B//wordsList', np.array(list(embedding_dict.keys())))\n",
    "np.save('/Users/yupeili/Desktop/ISO/data/glove.6B//wordsvector', np.array(list(embedding_dict.values()), dtype='float32'))"
   ]
  },
  {
   "cell_type": "code",
   "execution_count": null,
   "metadata": {},
   "outputs": [],
   "source": [
    "import numpy as np\n",
    "from scipy import spatial\n",
    "import matplotlib.pyplot as plt\n",
    "from sklearn.manifold import TSNE\n",
    "import os\n",
    "wordsList = np.load('/Users/yupeili/Desktop/ISO/data/glove.6B/wordsList.npy')\n",
    "wordsList = wordsList.tolist()\n",
    "wordvectors = np.load('/Users/yupeili/Desktop/ISO/data/glove.6B/wordsvector.npy')"
   ]
  },
  {
   "cell_type": "code",
   "execution_count": null,
   "metadata": {},
   "outputs": [],
   "source": [
    "from autocorrect import Speller\n",
    "correct = Speller()\n",
    "\n",
    "path = '/Users/yupeili/Desktop/ISO/data/Raw/Transcript/Segmented/'\n",
    "files = os.listdir(path)\n",
    "for file in files:\n",
    "    with open(path + file, 'r') as f:\n",
    "        with open('processed_text/' + file, 'w') as ff:\n",
    "            for lines in f:\n",
    "                #remove the first order and '_DELIM_'\n",
    "                tmp = list(lines)\n",
    "                tmp.insert(lines.index('_DELIM_') + 7, ' ')\n",
    "                Tmp = ''.join(tmp)\n",
    "                \n",
    "                Tmp = Tmp.lower()\n",
    "                for i in Tmp.split()[1:]:\n",
    "                    if i not in wordsList:\n",
    "                        i = correct.autocorrect_word(i) # in case the wrong spelling\n",
    "                        if i not in wordsList:\n",
    "                            continue #ignore wrong spelling words after auto correction (32 words in total are not corrected)\n",
    "                    # can not remove stop words since the sentence is short and not, ect is one of the stopwords\n",
    "                    #if i not in words:\n",
    "                    ff.write(str(i) + ' ')\n",
    "                ff.write('\\n')"
   ]
  },
  {
   "cell_type": "code",
   "execution_count": null,
   "metadata": {},
   "outputs": [],
   "source": [
    "\n",
    "vocab = set()\n",
    "path = '/Users/yupeili/Desktop/ISO/data/processed_text/'\n",
    "files = os.listdir(path)\n",
    "for file in files:\n",
    "    #print(file)\n",
    "    with open(path + file, 'r') as f:\n",
    "        for lines in f:\n",
    "            #print(lines)\n",
    "            for i in lines.split():\n",
    "                #print(i)\n",
    "                vocab.add(i)"
   ]
  },
  {
   "cell_type": "code",
   "execution_count": null,
   "metadata": {},
   "outputs": [],
   "source": [
    "len(vocab)"
   ]
  },
  {
   "cell_type": "code",
   "execution_count": null,
   "metadata": {},
   "outputs": [],
   "source": [
    "\n",
    "with open('vocab.txt', 'w') as f:\n",
    "    with open('vector.txt', 'w') as ff:\n",
    "        for i in vocab:\n",
    "            \n",
    "            index_i = wordsList.index(i)\n",
    "            f.write(i + ' ')\n",
    "            tempvec = wordvectors[index_i]\n",
    "            w_vector = ' '.join(map(lambda x:str(x), tempvec))\n",
    "            ff.write(w_vector + '\\n')\n",
    "            #print(wordvectors[index_i])\n",
    "            "
   ]
  },
  {
   "cell_type": "code",
   "execution_count": 182,
   "metadata": {},
   "outputs": [
    {
     "data": {
      "text/plain": [
       "0"
      ]
     },
     "execution_count": 182,
     "metadata": {},
     "output_type": "execute_result"
    }
   ],
   "source": [
    "bad_word = []\n",
    "for i in vocab:\n",
    "    if i not in wordsList:\n",
    "        bad_word.append(i)\n",
    "\n",
    "len(bad_word)"
   ]
  },
  {
   "attachments": {},
   "cell_type": "markdown",
   "metadata": {},
   "source": [
    "TODO: \n",
    "1. Deal with bad spelling words : ignore\n",
    "2. Use Facet features as video feature: done\n",
    "3. Get text features:\n",
    "4. Train"
   ]
  },
  {
   "cell_type": "code",
   "execution_count": 3,
   "metadata": {},
   "outputs": [],
   "source": [
    "path = '/Users/yupeili/Desktop/ISO/data/label/'\n",
    "path2 = '/Users/yupeili/Desktop/ISO/data/processed_text/'\n",
    "count = 0 \n",
    "files = os.listdir(path)\n",
    "ffiles = os.listdir(path2)\n",
    "trainfile = []\n",
    "with open('train_word.tsv', 'w') as ff:\n",
    "    for i in range(62):\n",
    "        trainfile.append(files[i])\n",
    "        with open(path + files[i], 'r') as f:\n",
    "            with open(path2 + files[i][:-3] + 'annotprocessed', 'r') as fff:\n",
    "                for lines in f:\n",
    "                    \n",
    "                    lines = lines.replace('\\n', '')\n",
    "                    llines = fff.readline()\n",
    "                    #print('postive\\t' + llines)\n",
    "                    #break\n",
    "                    ff.write(str(count) + '\\t' + str(count) + '\\t')\n",
    "                    if(float(lines)>0):\n",
    "                        ff.write('postive\\t' + llines)\n",
    "                    elif(float(lines)<0):\n",
    "                        ff.write('negative' + '\\t' + llines)\n",
    "                    else:\n",
    "                        ff.write('neutral' + '\\t' + llines)\n",
    "                    count += 1\n",
    "                        "
   ]
  },
  {
   "cell_type": "code",
   "execution_count": 4,
   "metadata": {},
   "outputs": [],
   "source": [
    "vocab = []\n",
    "wordvec = dict()\n",
    "wordvec_trained = dict()\n",
    "\n",
    "with open('vocab.txt', 'r') as f:\n",
    "    for lines in f:\n",
    "        vocab = (lines.split())\n",
    "with open('vector.txt', 'r') as ff:\n",
    "    with open('vector_trained.txt', 'r') as fff:\n",
    "        count = 0\n",
    "        for lines in ff:           \n",
    "            list_1 = lines.strip().split(' ')\n",
    "            wordvec[vocab[count]] = [ float(x) for x in list_1 ]\n",
    "            \n",
    "            line = fff.readline().strip().split(' ')            \n",
    "            wordvec_trained[vocab[count]] = [ float(x) for x in line ]\n",
    "            count += 1"
   ]
  },
  {
   "attachments": {},
   "cell_type": "markdown",
   "metadata": {},
   "source": [
    "visualise the vector"
   ]
  },
  {
   "cell_type": "code",
   "execution_count": null,
   "metadata": {},
   "outputs": [],
   "source": [
    "tsne = TSNE(n_components=2, random_state=0)\n",
    "\n",
    "words = list(wordvec.keys())\n",
    "vectors = np.array([wordvec[word] for word in words])\n",
    "vectors2 = np.array([wordvec_trained[word] for word in words])\n",
    "\n",
    "Y = tsne.fit_transform(vectors[:])\n",
    "Y2 = tsne.fit_transform(vectors2[:])\n",
    "\n"
   ]
  },
  {
   "cell_type": "code",
   "execution_count": null,
   "metadata": {},
   "outputs": [],
   "source": [
    "words.index('disempowered')"
   ]
  },
  {
   "cell_type": "code",
   "execution_count": 180,
   "metadata": {},
   "outputs": [
    {
     "data": {
      "image/png": "[encoded data removed]",
      "text/plain": [
       "<Figure size 640x480 with 1 Axes>"
      ]
     },
     "metadata": {},
     "output_type": "display_data"
    }
   ],
   "source": [
    "draw_spot=[120, 221, 307, 520, 598, 2012, 298, 948, 112 ,186, 841, 1061, 1426, 2508, 2353, 2937, 1659, 1705, 1647, 2727, 964, 2428]\n",
    "for xx in draw_spot:\n",
    "    plt.scatter(Y[xx, 0], Y[xx, 1], color = 'blue')\n",
    "    plt.scatter(Y2[xx, 0], Y2[xx, 1], color = 'red')\n",
    "    plt.annotate(vocab[xx], xy=(Y[xx, 0],Y[xx, 1]), xytext=(0,0), textcoords='offset points')\n",
    "    plt.annotate(vocab[xx], xy=(Y2[xx, 0],Y2[xx, 1]), xytext=(0,0), textcoords='offset points')\n",
    "\n",
    "plt.savefig('vector_compare.png')\n",
    "plt.show()"
   ]
  },
  {
   "cell_type": "code",
   "execution_count": 5,
   "metadata": {},
   "outputs": [],
   "source": [
    "trainset = []\n",
    "with open('/Users/yupeili/Desktop/ISO/data/train_filename.txt', 'r') as f:\n",
    "    for lines in f:\n",
    "        #print(lines.strip()[1:-6])\n",
    "        trainset.append([lines.strip()[1:-6]])\n",
    "\n",
    "testset = []\n",
    "with open('/Users/yupeili/Desktop/ISO/data/test_filename.txt', 'r') as f:\n",
    "    for lines in f:\n",
    "        #print(lines.strip()[:-4])\n",
    "        testset.append([lines.strip()[:-4]])"
   ]
  },
  {
   "cell_type": "code",
   "execution_count": 6,
   "metadata": {},
   "outputs": [],
   "source": [
    "import pickle\n",
    "(train_text, train_label, test_text, test_label, max_utt_len, train_len, test_len) = pickle.load(open('/Users/yupeili/Desktop/ISO/data/text.pickle', 'rb'))"
   ]
  },
  {
   "cell_type": "code",
   "execution_count": 17,
   "metadata": {},
   "outputs": [],
   "source": [
    "import pickle\n",
    "(train_video, _, test_video, _, _, _, _) = pickle.load(open('/Users/yupeili/Desktop/ISO/data/video.pickle', 'rb'))"
   ]
  },
  {
   "cell_type": "code",
   "execution_count": 18,
   "metadata": {},
   "outputs": [],
   "source": [
    "import pickle\n",
    "train_video1 = pickle.load(open('/Users/yupeili/Desktop/ISO/data/video_train.pickle', 'rb'))\n",
    "test_video1 = pickle.load(open('/Users/yupeili/Desktop/ISO/data/video_test.pickle', 'rb'))"
   ]
  },
  {
   "cell_type": "code",
   "execution_count": 19,
   "metadata": {},
   "outputs": [
    {
     "data": {
      "text/plain": [
       "(62, 63, 100)"
      ]
     },
     "execution_count": 19,
     "metadata": {},
     "output_type": "execute_result"
    }
   ],
   "source": [
    "train_video.shape"
   ]
  },
  {
   "cell_type": "code",
   "execution_count": 20,
   "metadata": {},
   "outputs": [
    {
     "data": {
      "text/plain": [
       "(61, 63, 35)"
      ]
     },
     "execution_count": 20,
     "metadata": {},
     "output_type": "execute_result"
    }
   ],
   "source": [
    "train_video1.shape"
   ]
  },
  {
   "cell_type": "code",
   "execution_count": 1,
   "metadata": {},
   "outputs": [],
   "source": [
    "import numpy as np\n",
    "label_train = np.zeros([61,63])\n",
    "label_test = np.zeros([31,63])\n",
    "len_train = []\n",
    "len_test = []\n",
    "text_train = np.zeros([61,63,100])\n",
    "text_test = np.zeros([31,63,100])"
   ]
  },
  {
   "cell_type": "code",
   "execution_count": 7,
   "metadata": {},
   "outputs": [
    {
     "data": {
      "text/plain": [
       "['BvYR0L6f2Ig']"
      ]
     },
     "execution_count": 7,
     "metadata": {},
     "output_type": "execute_result"
    }
   ],
   "source": [
    "trainset[0]"
   ]
  },
  {
   "cell_type": "code",
   "execution_count": 8,
   "metadata": {},
   "outputs": [],
   "source": [
    "import random\n",
    "count = 0\n",
    "for i in trainset:\n",
    "    with open('/Users/yupeili/Desktop/ISO/data/label/' + i[0] + '.txt') as f:\n",
    "        ccount = 0\n",
    "        '''\n",
    "        for lines in f:\n",
    "            if float(lines.strip()) > 0:\n",
    "                label_train[count][ccount] = 1.0\n",
    "            elif float(lines.strip()) < 0:\n",
    "                label_train[count][ccount] = 0.0\n",
    "            else:\n",
    "                if random.random() > 0.5:\n",
    "                    label_train[count][ccount] = 1.0\n",
    "                else:\n",
    "                    label_train[count][ccount] = 0.0\n",
    "            ccount += 1\n",
    "        len_train.append(ccount)\n",
    "        '''\n",
    "        for lines in f:\n",
    "            \n",
    "            label_train[count][ccount] = float(lines.strip())\n",
    "            \n",
    "            ccount += 1\n",
    "        len_train.append(ccount)\n",
    "        \n",
    "    count += 1"
   ]
  },
  {
   "cell_type": "code",
   "execution_count": 22,
   "metadata": {},
   "outputs": [],
   "source": [
    "count = 0\n",
    "for i in testset:\n",
    "    with open('/Users/yupeili/Desktop/ISO/data/label/' + i[0] + '.txt') as f:\n",
    "        ccount = 0\n",
    "        \n",
    "        \n",
    "        for lines in f:\n",
    "            '''\n",
    "            if float(lines.strip()) > 0:\n",
    "                label_test[count][ccount] = 1.0\n",
    "            elif float(lines.strip()) < 0:\n",
    "                label_test[count][ccount] = 0.0\n",
    "            else:\n",
    "                label_test[count][ccount] = -1.0\n",
    "            \n",
    "                \n",
    "                if random.random() > 0.5:\n",
    "                    label_test[count][ccount] = 1.0\n",
    "                else:\n",
    "                    label_test[count][ccount] = 0.0\n",
    "                '''\n",
    "            \n",
    "            label_test[count][ccount] = float(lines.strip())\n",
    "            ccount += 1\n",
    "        len_test.append(ccount)\n",
    "    count += 1"
   ]
  },
  {
   "cell_type": "code",
   "execution_count": 9,
   "metadata": {},
   "outputs": [],
   "source": [
    "count = 0\n",
    "for i in trainset:\n",
    "    with open('/Users/yupeili/Desktop/ISO/data/processed_text/' + i[0] + '.annotprocessed') as f:\n",
    "        ccount = 0\n",
    "        for lines in f:\n",
    "            wordss = lines.strip().split()\n",
    "            \n",
    "            #use average word embedding as the sentence embedding \n",
    "            sentence_embed = np.average([wordvec_trained[x] for x in wordss], axis = 0)\n",
    "            text_train[count][ccount] = sentence_embed\n",
    "            \n",
    "            ccount += 1\n",
    "        \n",
    "    count += 1"
   ]
  },
  {
   "cell_type": "code",
   "execution_count": 10,
   "metadata": {},
   "outputs": [],
   "source": [
    "count = 0\n",
    "for i in testset:\n",
    "    with open('/Users/yupeili/Desktop/ISO/data/processed_text/' + i[0] + '.annotprocessed') as f:\n",
    "        ccount = 0\n",
    "        for lines in f:\n",
    "            wordss = lines.strip().split()\n",
    "            \n",
    "            #use average word embedding as the sentence embedding \n",
    "            sentence_embed = np.average([wordvec_trained[x] for x in wordss], axis = 0)\n",
    "            text_test[count][ccount] = sentence_embed\n",
    "            \n",
    "            ccount += 1\n",
    "        \n",
    "    count += 1"
   ]
  },
  {
   "cell_type": "code",
   "execution_count": 14,
   "metadata": {},
   "outputs": [],
   "source": [
    "import pickle\n",
    "file = open('mytext_revise.pickle', 'wb')\n",
    "pickle.dump((text_train, label_train, text_test, label_test, max_utt_len, len_train, len_test), file)\n",
    "file.close()"
   ]
  },
  {
   "cell_type": "code",
   "execution_count": 23,
   "metadata": {},
   "outputs": [],
   "source": [
    "import pickle\n",
    "file = open('mytext_autoencoder.pickle', 'wb')\n",
    "pickle.dump((text_train, label_train, text_test, label_test, max_utt_len, len_train, len_test), file)\n",
    "file.close()"
   ]
  },
  {
   "cell_type": "code",
   "execution_count": 24,
   "metadata": {},
   "outputs": [],
   "source": [
    "file = open('mytext_auto1.pickle', 'wb')\n",
    "pickle.dump((text_train, label_train, max_utt_len, len_train, len_test), file)\n",
    "file.close()"
   ]
  },
  {
   "cell_type": "code",
   "execution_count": 25,
   "metadata": {},
   "outputs": [],
   "source": [
    "file = open('mytext_auto2.pickle', 'wb')\n",
    "pickle.dump((text_test, label_test), file)\n",
    "file.close()"
   ]
  },
  {
   "cell_type": "code",
   "execution_count": 14,
   "metadata": {},
   "outputs": [
    {
     "data": {
      "text/plain": [
       "(31, 63)"
      ]
     },
     "execution_count": 14,
     "metadata": {},
     "output_type": "execute_result"
    }
   ],
   "source": [
    "label_test.shape"
   ]
  },
  {
   "cell_type": "code",
   "execution_count": 15,
   "metadata": {},
   "outputs": [
    {
     "data": {
      "text/plain": [
       "63"
      ]
     },
     "execution_count": 15,
     "metadata": {},
     "output_type": "execute_result"
    }
   ],
   "source": [
    "max_utt_len"
   ]
  },
  {
   "cell_type": "code",
   "execution_count": 21,
   "metadata": {},
   "outputs": [
    {
     "data": {
      "text/plain": [
       "31"
      ]
     },
     "execution_count": 21,
     "metadata": {},
     "output_type": "execute_result"
    }
   ],
   "source": [
    "len(len_test)"
   ]
  },
  {
   "cell_type": "code",
   "execution_count": 26,
   "metadata": {},
   "outputs": [],
   "source": [
    "(train_text, train_label, test_text, test_label, max_utt_len, train_len, test_len) = pickle.load(open('/Users/yupeili/Desktop/ISO/data/mytext_autoencoder.pickle', 'rb'))\n"
   ]
  },
  {
   "attachments": {},
   "cell_type": "markdown",
   "metadata": {},
   "source": [
    "Get the sentence sentiment score"
   ]
  },
  {
   "cell_type": "code",
   "execution_count": 87,
   "metadata": {},
   "outputs": [
    {
     "data": {
      "text/plain": [
       "'0.191'"
      ]
     },
     "execution_count": 87,
     "metadata": {},
     "output_type": "execute_result"
    }
   ],
   "source": [
    "from senticnet.senticnet import SenticNet\n",
    "import math\n",
    "\n",
    "sn = SenticNet()\n",
    "sn.polarity_value('good')"
   ]
  },
  {
   "cell_type": "code",
   "execution_count": 85,
   "metadata": {},
   "outputs": [],
   "source": [
    "train_score = np.zeros([61,63,1])\n",
    "test_score = np.zeros([31,63,1])\n",
    "count = 0\n",
    "for i in trainset:\n",
    "    with open('/Users/yupeili/Desktop/ISO/data/processed_text/' + i[0] + '.annotprocessed') as f:\n",
    "        ccount = 0\n",
    "        for lines in f:\n",
    "            wordss = lines.strip().split()\n",
    "            #print(wordss)\n",
    "            \n",
    "            res = 0\n",
    "            for x in wordss:\n",
    "                #print(x)\n",
    "                \n",
    "                try:\n",
    "                    res += float(sn.polarity_value(x))\n",
    "                    #res = res + tmp\n",
    "                    #print(1)\n",
    "                except:\n",
    "                    continue   \n",
    "            #score = np.sum([sn.polarity_value(x) for x in wordss], axis = 0)\n",
    "            train_score[count][ccount] = res\n",
    "            \n",
    "            ccount += 1\n",
    "    break   \n",
    "    count += 1\n",
    "\n",
    "\n",
    "count = 0   \n",
    "for i in testset:\n",
    "    with open('/Users/yupeili/Desktop/ISO/data/processed_text/' + i[0] + '.annotprocessed') as f:\n",
    "        ccount = 0\n",
    "        for lines in f:\n",
    "            wordss = lines.strip().split()\n",
    "            \n",
    "            res = 0\n",
    "            for x in wordss:\n",
    "                try:\n",
    "                    res += float(sn.polarity_value(x))\n",
    "                except:\n",
    "                    continue   \n",
    "            #score = np.sum([sn.polarity_value(x) for x in wordss], axis = 0)\n",
    "            test_score[count][ccount] = res\n",
    "            \n",
    "            ccount += 1\n",
    "        \n",
    "    count += 1"
   ]
  },
  {
   "cell_type": "code",
   "execution_count": 88,
   "metadata": {},
   "outputs": [],
   "source": [
    "file = open('mytext_auto1.pickle', 'wb')\n",
    "pickle.dump((text_train, label_train, max_utt_len, len_train, len_test), file)\n",
    "file.close()"
   ]
  },
  {
   "cell_type": "code",
   "execution_count": 89,
   "metadata": {},
   "outputs": [],
   "source": [
    "file = open('mytext_auto2.pickle', 'wb')\n",
    "pickle.dump((text_test, label_test, train_score, test_score), file)\n",
    "file.close()"
   ]
  },
  {
   "cell_type": "code",
   "execution_count": 90,
   "metadata": {},
   "outputs": [],
   "source": [
    "(text_test, label_test, train_score, test_score) = pickle.load(open('/Users/yupeili/Desktop/ISO/data/mytext_auto2.pickle', 'rb'))\n"
   ]
  },
  {
   "cell_type": "code",
   "execution_count": 92,
   "metadata": {},
   "outputs": [
    {
     "data": {
      "text/plain": [
       "(61, 63, 1)"
      ]
     },
     "execution_count": 92,
     "metadata": {},
     "output_type": "execute_result"
    }
   ],
   "source": [
    "train_score.shape"
   ]
  }
 ],
 "metadata": {
  "kernelspec": {
   "display_name": "Python 3",
   "language": "python",
   "name": "python3"
  },
  "language_info": {
   "codemirror_mode": {
    "name": "ipython",
    "version": 3
   },
   "file_extension": ".py",
   "mimetype": "text/x-python",
   "name": "python",
   "nbconvert_exporter": "python",
   "pygments_lexer": "ipython3",
   "version": "3.9.6"
  },
  "orig_nbformat": 4,
  "vscode": {
   "interpreter": {
    "hash": "5edc29c2ed010d6458d71a83433b383a96a8cbd3efe8531bc90c4b8a5b8bcec9"
   }
  }
 },
 "nbformat": 4,
 "nbformat_minor": 2
}
