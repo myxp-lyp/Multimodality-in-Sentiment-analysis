{
 "cells": [
  {
   "cell_type": "code",
   "execution_count": 2,
   "metadata": {},
   "outputs": [],
   "source": [
    "import h5py\n",
    "lan = h5py.File('/Users/yupeili/Desktop/ISO/data/mosi.hdf5')"
   ]
  },
  {
   "cell_type": "code",
   "execution_count": 42,
   "metadata": {},
   "outputs": [],
   "source": [
    "#la = h5py.File('/Users/yupeili/Desktop/ISO/data/mosi_unalign.hdf5')"
   ]
  },
  {
   "cell_type": "code",
   "execution_count": 98,
   "metadata": {},
   "outputs": [
    {
     "data": {
      "text/plain": [
       "2183"
      ]
     },
     "execution_count": 98,
     "metadata": {},
     "output_type": "execute_result"
    }
   ],
   "source": [
    "len(lan['FACET_4.2'].keys())"
   ]
  },
  {
   "cell_type": "code",
   "execution_count": 3,
   "metadata": {},
   "outputs": [],
   "source": [
    "import numpy as np\n",
    "video = dict()\n",
    "for i in lan['FACET_4.2'].keys():\n",
    "    #replace the last ']' to sort\n",
    "    video[i] = np.average(lan['FACET_4.2'][i]['features'], axis = 0) #use average value of each words as the final representation"
   ]
  },
  {
   "cell_type": "code",
   "execution_count": 4,
   "metadata": {},
   "outputs": [],
   "source": [
    "#sort out the video dict\n",
    "import functools\n",
    "#aa={'aa[2]':3, 'aa[10]':5, 'aa[0]':10}\n",
    "#print(aa)\n",
    "def compare(x, y):\n",
    "    a = 0\n",
    "    b = 0\n",
    "    #j = 0\n",
    "    #print(x[:3])\n",
    "    if x[0][:3] > y[0][:3]:\n",
    "        #print('1')\n",
    "        return 1\n",
    "    elif x[0][:3] < y[0][:3]:\n",
    "        #print('2')\n",
    "        return -1\n",
    "    else:\n",
    "        #print('3')    \n",
    "        try:\n",
    "            a = int(x[0][-3:-1])\n",
    "        except:\n",
    "            a = int(x[0][-2:-1])\n",
    "        try:\n",
    "            b = int(y[0][-3:-1])\n",
    "        except:\n",
    "            b = int(y[0][-2:-1])\n",
    "        #print(a,b)\n",
    "        if a>b:\n",
    "            #print('True')\n",
    "            return 1\n",
    "        elif a<b:\n",
    "            return -1\n",
    "        else:\n",
    "            return 0\n",
    "video = sorted(video.items(), key=functools.cmp_to_key(compare))"
   ]
  },
  {
   "cell_type": "code",
   "execution_count": 83,
   "metadata": {},
   "outputs": [],
   "source": [
    "trainset = dict()\n",
    "with open('/Users/yupeili/Desktop/ISO/data/train_filename.txt', 'r') as f:\n",
    "    for lines in f:\n",
    "        #print(lines.strip()[1:-6])\n",
    "        trainset[lines.strip()[1:-6]] = 0\n",
    "\n",
    "testset = dict()\n",
    "with open('/Users/yupeili/Desktop/ISO/data/test_filename.txt', 'r') as f:\n",
    "    for lines in f:\n",
    "        #print(lines.strip()[:-4])\n",
    "        testset[lines.strip()[:-4]] = 0"
   ]
  },
  {
   "cell_type": "code",
   "execution_count": 90,
   "metadata": {},
   "outputs": [],
   "source": [
    "for i in video:\n",
    "    kk = i[0][:i[0].index('[')]\n",
    "    if kk in trainset.keys():\n",
    "        trainset[kk] = trainset[kk] + 1\n",
    "    else:\n",
    "        testset[kk] = testset[kk] + 1"
   ]
  },
  {
   "cell_type": "code",
   "execution_count": 97,
   "metadata": {},
   "outputs": [
    {
     "data": {
      "text/plain": [
       "31"
      ]
     },
     "execution_count": 97,
     "metadata": {},
     "output_type": "execute_result"
    }
   ],
   "source": [
    "testset.values()"
   ]
  },
  {
   "cell_type": "code",
   "execution_count": 98,
   "metadata": {},
   "outputs": [
    {
     "data": {
      "text/plain": [
       "61"
      ]
     },
     "execution_count": 98,
     "metadata": {},
     "output_type": "execute_result"
    }
   ],
   "source": [
    "trainset.values()"
   ]
  },
  {
   "cell_type": "code",
   "execution_count": 87,
   "metadata": {},
   "outputs": [],
   "source": [
    "#check the dimension of text and visual\n",
    "import os\n",
    "tt = '/Users/yupeili/Desktop/ISO/data/Raw/Transcript/Segmented/'\n",
    "ft = os.listdir(tt)\n",
    "for i in ft:\n",
    "    count = 0\n",
    "    #print(i)\n",
    "    with open(tt + i, 'r') as f:\n",
    "        for lines in f:\n",
    "            if i[:-15] in trainset.keys():\n",
    "                trainset[i[:-15]] -= 1\n",
    "            elif i[:-15] in testset.keys():\n",
    "                testset[i[:-15]] -= 1"
   ]
  },
  {
   "cell_type": "code",
   "execution_count": 270,
   "metadata": {},
   "outputs": [
    {
     "data": {
      "text/plain": [
       "-15"
      ]
     },
     "execution_count": 270,
     "metadata": {},
     "output_type": "execute_result"
    }
   ],
   "source": [
    "trainset['c5xsKMxpXnc']"
   ]
  },
  {
   "cell_type": "code",
   "execution_count": 271,
   "metadata": {},
   "outputs": [
    {
     "data": {
      "text/plain": [
       "-1"
      ]
     },
     "execution_count": 271,
     "metadata": {},
     "output_type": "execute_result"
    }
   ],
   "source": [
    "testset['2WGyTLYerpo']"
   ]
  },
  {
   "attachments": {},
   "cell_type": "markdown",
   "metadata": {},
   "source": [
    "add blank data in '2WGyTLYerpo' with its average of 2 data nearby it and throw away 'c5xsKMxpXnc'"
   ]
  },
  {
   "cell_type": "code",
   "execution_count": 9,
   "metadata": {},
   "outputs": [],
   "source": [
    "for i in range(len(video)):\n",
    "    if video[i][0] == '2WGyTLYerpo[42]':\n",
    "        video.insert(i + 1, ('2WGyTLYerpo[43]',((video[i][1]+ video[i+1][1])/2)) )"
   ]
  },
  {
   "cell_type": "code",
   "execution_count": 119,
   "metadata": {},
   "outputs": [],
   "source": [
    "video_train = np.empty([61, 63, 35], dtype = float)\n",
    "video_test = np.empty([31, 63, 35], dtype = float)\n",
    "\n",
    "index_map = dict()\n",
    "count = 0\n",
    "for i in trainset.keys():\n",
    "    index_map[i] = count\n",
    "    count += 1\n",
    "for i in testset.keys():\n",
    "    index_map[i] = count\n",
    "    count += 1"
   ]
  },
  {
   "cell_type": "code",
   "execution_count": 121,
   "metadata": {},
   "outputs": [
    {
     "data": {
      "text/plain": [
       "array([[[0., 0., 0., ..., 0., 0., 0.],\n",
       "        [0., 0., 0., ..., 0., 0., 0.],\n",
       "        [0., 0., 0., ..., 0., 0., 0.],\n",
       "        ...,\n",
       "        [0., 0., 0., ..., 0., 0., 0.],\n",
       "        [0., 0., 0., ..., 0., 0., 0.],\n",
       "        [0., 0., 0., ..., 0., 0., 0.]],\n",
       "\n",
       "       [[0., 0., 0., ..., 0., 0., 0.],\n",
       "        [0., 0., 0., ..., 0., 0., 0.],\n",
       "        [0., 0., 0., ..., 0., 0., 0.],\n",
       "        ...,\n",
       "        [0., 0., 0., ..., 0., 0., 0.],\n",
       "        [0., 0., 0., ..., 0., 0., 0.],\n",
       "        [0., 0., 0., ..., 0., 0., 0.]],\n",
       "\n",
       "       [[0., 0., 0., ..., 0., 0., 0.],\n",
       "        [0., 0., 0., ..., 0., 0., 0.],\n",
       "        [0., 0., 0., ..., 0., 0., 0.],\n",
       "        ...,\n",
       "        [0., 0., 0., ..., 0., 0., 0.],\n",
       "        [0., 0., 0., ..., 0., 0., 0.],\n",
       "        [0., 0., 0., ..., 0., 0., 0.]],\n",
       "\n",
       "       ...,\n",
       "\n",
       "       [[0., 0., 0., ..., 0., 0., 0.],\n",
       "        [0., 0., 0., ..., 0., 0., 0.],\n",
       "        [0., 0., 0., ..., 0., 0., 0.],\n",
       "        ...,\n",
       "        [0., 0., 0., ..., 0., 0., 0.],\n",
       "        [0., 0., 0., ..., 0., 0., 0.],\n",
       "        [0., 0., 0., ..., 0., 0., 0.]],\n",
       "\n",
       "       [[0., 0., 0., ..., 0., 0., 0.],\n",
       "        [0., 0., 0., ..., 0., 0., 0.],\n",
       "        [0., 0., 0., ..., 0., 0., 0.],\n",
       "        ...,\n",
       "        [0., 0., 0., ..., 0., 0., 0.],\n",
       "        [0., 0., 0., ..., 0., 0., 0.],\n",
       "        [0., 0., 0., ..., 0., 0., 0.]],\n",
       "\n",
       "       [[0., 0., 0., ..., 0., 0., 0.],\n",
       "        [0., 0., 0., ..., 0., 0., 0.],\n",
       "        [0., 0., 0., ..., 0., 0., 0.],\n",
       "        ...,\n",
       "        [0., 0., 0., ..., 0., 0., 0.],\n",
       "        [0., 0., 0., ..., 0., 0., 0.],\n",
       "        [0., 0., 0., ..., 0., 0., 0.]]])"
      ]
     },
     "execution_count": 121,
     "metadata": {},
     "output_type": "execute_result"
    }
   ],
   "source": [
    "video_test"
   ]
  },
  {
   "cell_type": "code",
   "execution_count": 122,
   "metadata": {},
   "outputs": [],
   "source": [
    "judge = True\n",
    "count = 0\n",
    "max_count = 0\n",
    "index = 0\n",
    "train_test = True\n",
    "\n",
    "num = 0\n",
    "\n",
    "for i in video:\n",
    "    tt = i[0][:i[0].index('[')]\n",
    "    if judge:\n",
    "        if tt in trainset.keys():\n",
    "            #print(1)\n",
    "            max_count = trainset[tt]\n",
    "            index = index_map[tt]\n",
    "            train_test = True\n",
    "        elif tt in testset.keys():\n",
    "            #print(2)\n",
    "            max_count = testset[tt]\n",
    "            index = index_map[tt] - 61\n",
    "            train_test = False\n",
    "        else:\n",
    "            print('error!!')\n",
    "        judge = False\n",
    "        #print(tt)\n",
    "        #print(index)\n",
    "        #print(max_count)\n",
    "    if count < max_count:\n",
    "        \n",
    "        if train_test:\n",
    "            #print(3)\n",
    "            video_train[index][count] = i[1]\n",
    "        else:\n",
    "            #print(4)\n",
    "            #print(count)\n",
    "            video_test[index][count] = i[1]\n",
    "        count += 1\n",
    "        if count == max_count:\n",
    "            judge = True\n",
    "            count = 0\n",
    "            num += 1\n",
    "    #if num > 1:\n",
    "     #   break\n",
    "        "
   ]
  },
  {
   "cell_type": "code",
   "execution_count": 138,
   "metadata": {},
   "outputs": [],
   "source": [
    "import pickle\n",
    "file = open('video_train.pickle', 'wb')\n",
    "pickle.dump(video_train, file)\n",
    "file.close()"
   ]
  },
  {
   "cell_type": "code",
   "execution_count": 144,
   "metadata": {},
   "outputs": [],
   "source": [
    "import pickle\n",
    "file = open('video_test.pickle', 'wb')\n",
    "pickle.dump(video_test, file)\n",
    "file.close()"
   ]
  }
 ],
 "metadata": {
  "kernelspec": {
   "display_name": "Python 3",
   "language": "python",
   "name": "python3"
  },
  "language_info": {
   "codemirror_mode": {
    "name": "ipython",
    "version": 3
   },
   "file_extension": ".py",
   "mimetype": "text/x-python",
   "name": "python",
   "nbconvert_exporter": "python",
   "pygments_lexer": "ipython3",
   "version": "3.9.6 (default, Sep 26 2022, 11:37:49) \n[Clang 14.0.0 (clang-1400.0.29.202)]"
  },
  "orig_nbformat": 4,
  "vscode": {
   "interpreter": {
    "hash": "8a5edab282632443219e051e4ade2d1d5bbc671c781051bf1437897cbdfea0f1"
   }
  }
 },
 "nbformat": 4,
 "nbformat_minor": 2
}
